{
 "cells": [
  {
   "cell_type": "markdown",
   "metadata": {},
   "source": [
    "# Imports"
   ]
  },
  {
   "cell_type": "code",
   "execution_count": 1,
   "metadata": {
    "pycharm": {
     "is_executing": true
    }
   },
   "outputs": [],
   "source": [
    "import torch\n",
    "from torch import Tensor\n",
    "from torchvision.utils import save_image\n",
    "\n",
    "from models.type import Type as ModelType\n",
    "from data.type import Type as DataType\n",
    "from results.results import Results\n",
    "from train.params import Params\n",
    "from train.builder import build_params\n",
    "from IPython.display import Image\n",
    "\n",
    "import ssl\n",
    "\n",
    "from train.train_wgan import TrainWGan\n",
    "from train.train_dcgan import TrainDCGan\n",
    "\n",
    "ssl._create_default_https_context = ssl._create_unverified_context"
   ]
  },
  {
   "cell_type": "markdown",
   "metadata": {},
   "source": [
    "# Generate Images Function"
   ]
  },
  {
   "cell_type": "code",
   "execution_count": 2,
   "metadata": {},
   "outputs": [],
   "source": [
    "def generate_images(generator: torch.nn.Module, module_name: str):\n",
    "    fixed_noise: Tensor = torch.randn(2, 100)\n",
    "    if torch.cuda.is_available():\n",
    "        fixed_noise = fixed_noise.cuda()\n",
    "\n",
    "    generated_image = generator(fixed_noise)\n",
    "    image_path_1 = \"results/\" + module_name + \"_1.png\"\n",
    "    image_path_2 = \"results/\" + module_name + \"_2.png\"\n",
    "    save_image(generated_image.data[0], image_path_1, nrow=1, normalize=True)\n",
    "    save_image(generated_image.data[1], image_path_2, nrow=1, normalize=True) \n",
    "    \n",
    "    display(Image(filename=image_path_1))\n",
    "    display(Image(filename=image_path_2))"
   ]
  },
  {
   "cell_type": "markdown",
   "metadata": {},
   "source": [
    "# Plot Function"
   ]
  },
  {
   "cell_type": "code",
   "execution_count": 3,
   "metadata": {},
   "outputs": [],
   "source": [
    "import matplotlib.pyplot as plt\n",
    "\n",
    "def plot(title: str, x_label: str, y_label: str, line1_label: str, line1_values: {}, \n",
    "         line2_label: str, line2_values: {}):\n",
    "    plt.title(title)\n",
    "    plt.xlabel(x_label)\n",
    "    plt.ylabel(y_label)\n",
    "\n",
    "    line1_x_values: [] = []\n",
    "    line1_y_values: [] = []\n",
    "\n",
    "    for key in line1_values:\n",
    "        line1_x_values.append(key)\n",
    "        line1_y_values.append(line1_values[key])\n",
    "\n",
    "    plt.plot(line1_x_values, line1_y_values, label=line1_label)\n",
    "\n",
    "    line2_x_values: [] = []\n",
    "    line2_y_values: [] = []\n",
    "\n",
    "    for key in line2_values:\n",
    "        line2_x_values.append(key)\n",
    "        line2_y_values.append(line2_values[key])\n",
    "\n",
    "    plt.plot(line2_x_values, line2_y_values, label=line2_label)\n",
    "    \n",
    "    plt.legend(loc='best')\n",
    "    plt.show()"
   ]
  },
  {
   "cell_type": "markdown",
   "metadata": {},
   "source": [
    "# Train WGan"
   ]
  },
  {
   "cell_type": "code",
   "execution_count": 4,
   "metadata": {},
   "outputs": [],
   "source": [
    "args: {} = {}\n",
    "args[\"epochs\"] = 1 # number of epochs of training\n",
    "args[\"batch_size\"] = 64 # size of the batches\n",
    "args[\"lr\"] = 0.0002 # adam: learning rate\n",
    "args[\"b1\"] = 0.5 # adam: decay of first order momentum of gradient\n",
    "args[\"b2\"] = 0.999 # adam: decay of first order momentum of gradient\n",
    "args[\"latent_dim\"] = 100 # dimensionality of the latent space\n",
    "args[\"critic\"] = 5 # number of training steps for discriminator per iter\n",
    "args[\"gradient_penalty_lambda\"] = 10 # loss weight for gradient penalty\n",
    "args[\"save_generated_image_every\"] = 50 # interval batches between saving image"
   ]
  },
  {
   "cell_type": "markdown",
   "metadata": {},
   "source": [
    "### WGan with Fashion-Mnist"
   ]
  },
  {
   "cell_type": "code",
   "execution_count": 5,
   "metadata": {},
   "outputs": [
    {
     "name": "stdout",
     "output_type": "stream",
     "text": [
      "[Epoch 1/1] [Batch 1/938] [Discriminator loss: 7.873785] [Generator loss: 0.024201]\n",
      "[Epoch 1/1] [Batch 6/938] [Discriminator loss: 3.901337] [Generator loss: 0.013850]\n",
      "[Epoch 1/1] [Batch 11/938] [Discriminator loss: -4.748446] [Generator loss: -0.033496]\n",
      "[Epoch 1/1] [Batch 16/938] [Discriminator loss: -14.571273] [Generator loss: -0.182722]\n",
      "[Epoch 1/1] [Batch 21/938] [Discriminator loss: -22.252674] [Generator loss: -0.402982]\n",
      "[Epoch 1/1] [Batch 26/938] [Discriminator loss: -25.750330] [Generator loss: -0.597249]\n",
      "[Epoch 1/1] [Batch 31/938] [Discriminator loss: -24.493284] [Generator loss: -0.778336]\n",
      "[Epoch 1/1] [Batch 36/938] [Discriminator loss: -25.024673] [Generator loss: -0.984847]\n",
      "[Epoch 1/1] [Batch 41/938] [Discriminator loss: -25.231779] [Generator loss: -1.221635]\n",
      "[Epoch 1/1] [Batch 46/938] [Discriminator loss: -25.623959] [Generator loss: -1.505807]\n",
      "[Epoch 1/1] [Batch 51/938] [Discriminator loss: -25.042435] [Generator loss: -1.741307]\n",
      "[Epoch 1/1] [Batch 56/938] [Discriminator loss: -25.800186] [Generator loss: -2.094431]\n",
      "[Epoch 1/1] [Batch 61/938] [Discriminator loss: -26.045702] [Generator loss: -2.534852]\n",
      "[Epoch 1/1] [Batch 66/938] [Discriminator loss: -24.561722] [Generator loss: -2.834950]\n",
      "[Epoch 1/1] [Batch 71/938] [Discriminator loss: -24.152409] [Generator loss: -3.209537]\n",
      "[Epoch 1/1] [Batch 76/938] [Discriminator loss: -24.094093] [Generator loss: -3.628814]\n",
      "[Epoch 1/1] [Batch 81/938] [Discriminator loss: -22.455555] [Generator loss: -3.903871]\n",
      "[Epoch 1/1] [Batch 86/938] [Discriminator loss: -22.674433] [Generator loss: -4.579291]\n",
      "[Epoch 1/1] [Batch 91/938] [Discriminator loss: -22.274113] [Generator loss: -4.935629]\n",
      "[Epoch 1/1] [Batch 96/938] [Discriminator loss: -21.836971] [Generator loss: -5.343477]\n",
      "[Epoch 1/1] [Batch 101/938] [Discriminator loss: -21.107513] [Generator loss: -5.809171]\n",
      "[Epoch 1/1] [Batch 106/938] [Discriminator loss: -20.757936] [Generator loss: -6.580211]\n",
      "[Epoch 1/1] [Batch 111/938] [Discriminator loss: -19.172808] [Generator loss: -7.111173]\n",
      "[Epoch 1/1] [Batch 116/938] [Discriminator loss: -17.775196] [Generator loss: -7.851335]\n",
      "[Epoch 1/1] [Batch 121/938] [Discriminator loss: -18.472610] [Generator loss: -8.210685]\n",
      "[Epoch 1/1] [Batch 126/938] [Discriminator loss: -16.888628] [Generator loss: -8.828333]\n",
      "[Epoch 1/1] [Batch 131/938] [Discriminator loss: -15.559730] [Generator loss: -9.803367]\n",
      "[Epoch 1/1] [Batch 136/938] [Discriminator loss: -16.665148] [Generator loss: -10.571030]\n",
      "[Epoch 1/1] [Batch 141/938] [Discriminator loss: -15.499671] [Generator loss: -10.597136]\n",
      "[Epoch 1/1] [Batch 146/938] [Discriminator loss: -12.623109] [Generator loss: -10.824664]\n",
      "[Epoch 1/1] [Batch 151/938] [Discriminator loss: -13.395910] [Generator loss: -12.127650]\n",
      "[Epoch 1/1] [Batch 156/938] [Discriminator loss: -12.312259] [Generator loss: -11.769400]\n",
      "[Epoch 1/1] [Batch 161/938] [Discriminator loss: -9.652482] [Generator loss: -12.175241]\n",
      "[Epoch 1/1] [Batch 166/938] [Discriminator loss: -9.754378] [Generator loss: -12.562490]\n",
      "[Epoch 1/1] [Batch 171/938] [Discriminator loss: -9.102426] [Generator loss: -13.295434]\n",
      "[Epoch 1/1] [Batch 176/938] [Discriminator loss: -8.105143] [Generator loss: -12.594417]\n",
      "[Epoch 1/1] [Batch 181/938] [Discriminator loss: -7.036539] [Generator loss: -12.998729]\n",
      "[Epoch 1/1] [Batch 186/938] [Discriminator loss: -7.096094] [Generator loss: -12.056507]\n",
      "[Epoch 1/1] [Batch 191/938] [Discriminator loss: -7.029337] [Generator loss: -10.931887]\n",
      "[Epoch 1/1] [Batch 196/938] [Discriminator loss: -6.335398] [Generator loss: -11.327248]\n",
      "[Epoch 1/1] [Batch 201/938] [Discriminator loss: -5.067146] [Generator loss: -11.891254]\n",
      "[Epoch 1/1] [Batch 206/938] [Discriminator loss: -5.454277] [Generator loss: -12.490615]\n",
      "[Epoch 1/1] [Batch 211/938] [Discriminator loss: -4.311051] [Generator loss: -12.303289]\n",
      "[Epoch 1/1] [Batch 216/938] [Discriminator loss: -4.981623] [Generator loss: -11.743639]\n",
      "[Epoch 1/1] [Batch 221/938] [Discriminator loss: -3.390095] [Generator loss: -11.252499]\n",
      "[Epoch 1/1] [Batch 226/938] [Discriminator loss: -3.939947] [Generator loss: -10.816062]\n",
      "[Epoch 1/1] [Batch 231/938] [Discriminator loss: -3.904834] [Generator loss: -10.194593]\n",
      "[Epoch 1/1] [Batch 236/938] [Discriminator loss: -2.598139] [Generator loss: -12.270393]\n",
      "[Epoch 1/1] [Batch 241/938] [Discriminator loss: -4.493042] [Generator loss: -13.066439]\n",
      "[Epoch 1/1] [Batch 246/938] [Discriminator loss: -4.251046] [Generator loss: -12.769281]\n",
      "[Epoch 1/1] [Batch 251/938] [Discriminator loss: -4.412890] [Generator loss: -13.080593]\n",
      "[Epoch 1/1] [Batch 256/938] [Discriminator loss: -5.096182] [Generator loss: -13.692682]\n",
      "[Epoch 1/1] [Batch 261/938] [Discriminator loss: -4.876860] [Generator loss: -11.565163]\n",
      "[Epoch 1/1] [Batch 266/938] [Discriminator loss: -5.871023] [Generator loss: -10.612427]\n",
      "[Epoch 1/1] [Batch 271/938] [Discriminator loss: -5.893886] [Generator loss: -9.226156]\n",
      "[Epoch 1/1] [Batch 276/938] [Discriminator loss: -6.692509] [Generator loss: -9.970273]\n",
      "[Epoch 1/1] [Batch 281/938] [Discriminator loss: -5.857716] [Generator loss: -7.642292]\n",
      "[Epoch 1/1] [Batch 286/938] [Discriminator loss: -6.333153] [Generator loss: -4.695376]\n",
      "[Epoch 1/1] [Batch 291/938] [Discriminator loss: -7.058051] [Generator loss: -3.357697]\n",
      "[Epoch 1/1] [Batch 296/938] [Discriminator loss: -6.656884] [Generator loss: -2.886955]\n",
      "[Epoch 1/1] [Batch 301/938] [Discriminator loss: -5.129455] [Generator loss: -5.763567]\n",
      "[Epoch 1/1] [Batch 306/938] [Discriminator loss: -6.165983] [Generator loss: -5.554472]\n",
      "[Epoch 1/1] [Batch 311/938] [Discriminator loss: -7.511014] [Generator loss: -3.506952]\n",
      "[Epoch 1/1] [Batch 316/938] [Discriminator loss: -5.870830] [Generator loss: -4.296737]\n",
      "[Epoch 1/1] [Batch 321/938] [Discriminator loss: -5.568938] [Generator loss: -5.297168]\n",
      "[Epoch 1/1] [Batch 326/938] [Discriminator loss: -6.163988] [Generator loss: -3.425820]\n",
      "[Epoch 1/1] [Batch 331/938] [Discriminator loss: -7.203804] [Generator loss: -2.479949]\n",
      "[Epoch 1/1] [Batch 336/938] [Discriminator loss: -5.701793] [Generator loss: -0.344416]\n",
      "[Epoch 1/1] [Batch 341/938] [Discriminator loss: -5.178796] [Generator loss: 0.391349]\n",
      "[Epoch 1/1] [Batch 346/938] [Discriminator loss: -6.499218] [Generator loss: 2.381014]\n",
      "[Epoch 1/1] [Batch 351/938] [Discriminator loss: -5.261665] [Generator loss: -0.186335]\n",
      "[Epoch 1/1] [Batch 356/938] [Discriminator loss: -3.640229] [Generator loss: 0.907196]\n",
      "[Epoch 1/1] [Batch 361/938] [Discriminator loss: -4.261056] [Generator loss: 1.820563]\n",
      "[Epoch 1/1] [Batch 366/938] [Discriminator loss: -2.774040] [Generator loss: 0.042128]\n",
      "[Epoch 1/1] [Batch 371/938] [Discriminator loss: -4.099011] [Generator loss: 0.190905]\n",
      "[Epoch 1/1] [Batch 376/938] [Discriminator loss: -4.709544] [Generator loss: -0.354745]\n",
      "[Epoch 1/1] [Batch 381/938] [Discriminator loss: -4.160959] [Generator loss: -0.495134]\n",
      "[Epoch 1/1] [Batch 386/938] [Discriminator loss: -3.048715] [Generator loss: -2.823556]\n",
      "[Epoch 1/1] [Batch 391/938] [Discriminator loss: -4.559207] [Generator loss: -2.787904]\n",
      "[Epoch 1/1] [Batch 396/938] [Discriminator loss: -4.890028] [Generator loss: -3.331612]\n",
      "[Epoch 1/1] [Batch 401/938] [Discriminator loss: -5.453549] [Generator loss: -3.252563]\n",
      "[Epoch 1/1] [Batch 406/938] [Discriminator loss: -4.927839] [Generator loss: -2.619292]\n",
      "[Epoch 1/1] [Batch 411/938] [Discriminator loss: -5.896721] [Generator loss: -0.400766]\n",
      "[Epoch 1/1] [Batch 416/938] [Discriminator loss: -5.910829] [Generator loss: -1.822519]\n",
      "[Epoch 1/1] [Batch 421/938] [Discriminator loss: -5.371977] [Generator loss: -2.073011]\n",
      "[Epoch 1/1] [Batch 426/938] [Discriminator loss: -7.052796] [Generator loss: 0.038963]\n",
      "[Epoch 1/1] [Batch 431/938] [Discriminator loss: -5.288857] [Generator loss: -1.734300]\n",
      "[Epoch 1/1] [Batch 436/938] [Discriminator loss: -5.497287] [Generator loss: -0.791912]\n",
      "[Epoch 1/1] [Batch 441/938] [Discriminator loss: -5.198896] [Generator loss: -1.275560]\n",
      "[Epoch 1/1] [Batch 446/938] [Discriminator loss: -5.213725] [Generator loss: -2.498923]\n",
      "[Epoch 1/1] [Batch 451/938] [Discriminator loss: -4.705559] [Generator loss: -1.827919]\n",
      "[Epoch 1/1] [Batch 456/938] [Discriminator loss: -5.173861] [Generator loss: -2.601882]\n",
      "[Epoch 1/1] [Batch 461/938] [Discriminator loss: -5.279001] [Generator loss: -1.135748]\n"
     ]
    },
    {
     "name": "stdout",
     "output_type": "stream",
     "text": [
      "[Epoch 1/1] [Batch 466/938] [Discriminator loss: -4.943048] [Generator loss: -1.513283]\n",
      "[Epoch 1/1] [Batch 471/938] [Discriminator loss: -5.254999] [Generator loss: -2.933253]\n",
      "[Epoch 1/1] [Batch 476/938] [Discriminator loss: -5.821069] [Generator loss: -0.923773]\n",
      "[Epoch 1/1] [Batch 481/938] [Discriminator loss: -5.612315] [Generator loss: -2.070788]\n",
      "[Epoch 1/1] [Batch 486/938] [Discriminator loss: -6.205328] [Generator loss: 0.168238]\n",
      "[Epoch 1/1] [Batch 491/938] [Discriminator loss: -5.800390] [Generator loss: -2.311661]\n",
      "[Epoch 1/1] [Batch 496/938] [Discriminator loss: -4.854366] [Generator loss: -3.246915]\n",
      "[Epoch 1/1] [Batch 501/938] [Discriminator loss: -5.841336] [Generator loss: -1.802134]\n",
      "[Epoch 1/1] [Batch 506/938] [Discriminator loss: -5.956121] [Generator loss: -1.237639]\n",
      "[Epoch 1/1] [Batch 511/938] [Discriminator loss: -5.940401] [Generator loss: -2.180088]\n",
      "[Epoch 1/1] [Batch 516/938] [Discriminator loss: -6.405570] [Generator loss: -3.398792]\n",
      "[Epoch 1/1] [Batch 521/938] [Discriminator loss: -5.116497] [Generator loss: -1.624943]\n",
      "[Epoch 1/1] [Batch 526/938] [Discriminator loss: -5.426244] [Generator loss: -3.701972]\n",
      "[Epoch 1/1] [Batch 531/938] [Discriminator loss: -4.936871] [Generator loss: -3.557135]\n",
      "[Epoch 1/1] [Batch 536/938] [Discriminator loss: -5.226556] [Generator loss: -2.745280]\n",
      "[Epoch 1/1] [Batch 541/938] [Discriminator loss: -5.120937] [Generator loss: -2.706358]\n",
      "[Epoch 1/1] [Batch 546/938] [Discriminator loss: -5.360276] [Generator loss: -4.656943]\n",
      "[Epoch 1/1] [Batch 551/938] [Discriminator loss: -5.944623] [Generator loss: -3.163297]\n",
      "[Epoch 1/1] [Batch 556/938] [Discriminator loss: -5.413167] [Generator loss: -4.364038]\n",
      "[Epoch 1/1] [Batch 561/938] [Discriminator loss: -5.037045] [Generator loss: -4.056838]\n",
      "[Epoch 1/1] [Batch 566/938] [Discriminator loss: -5.794456] [Generator loss: -3.490767]\n",
      "[Epoch 1/1] [Batch 571/938] [Discriminator loss: -4.546463] [Generator loss: -1.592524]\n",
      "[Epoch 1/1] [Batch 576/938] [Discriminator loss: -4.934259] [Generator loss: -4.145926]\n",
      "[Epoch 1/1] [Batch 581/938] [Discriminator loss: -4.849398] [Generator loss: -3.643392]\n",
      "[Epoch 1/1] [Batch 586/938] [Discriminator loss: -4.673781] [Generator loss: -2.032861]\n",
      "[Epoch 1/1] [Batch 591/938] [Discriminator loss: -5.435394] [Generator loss: -2.680579]\n",
      "[Epoch 1/1] [Batch 596/938] [Discriminator loss: -5.242028] [Generator loss: -0.970561]\n",
      "[Epoch 1/1] [Batch 601/938] [Discriminator loss: -5.286001] [Generator loss: -5.215487]\n",
      "[Epoch 1/1] [Batch 606/938] [Discriminator loss: -5.414265] [Generator loss: -3.792670]\n",
      "[Epoch 1/1] [Batch 611/938] [Discriminator loss: -5.262045] [Generator loss: -2.281628]\n",
      "[Epoch 1/1] [Batch 616/938] [Discriminator loss: -4.990737] [Generator loss: -3.247679]\n",
      "[Epoch 1/1] [Batch 621/938] [Discriminator loss: -6.191461] [Generator loss: -2.903995]\n",
      "[Epoch 1/1] [Batch 626/938] [Discriminator loss: -5.601402] [Generator loss: -0.659011]\n",
      "[Epoch 1/1] [Batch 631/938] [Discriminator loss: -5.135049] [Generator loss: -2.056478]\n",
      "[Epoch 1/1] [Batch 636/938] [Discriminator loss: -4.339853] [Generator loss: -4.325860]\n",
      "[Epoch 1/1] [Batch 641/938] [Discriminator loss: -5.394301] [Generator loss: -1.767452]\n",
      "[Epoch 1/1] [Batch 646/938] [Discriminator loss: -4.062396] [Generator loss: -3.477244]\n",
      "[Epoch 1/1] [Batch 651/938] [Discriminator loss: -5.644461] [Generator loss: -4.720638]\n",
      "[Epoch 1/1] [Batch 656/938] [Discriminator loss: -4.447850] [Generator loss: -3.378285]\n",
      "[Epoch 1/1] [Batch 661/938] [Discriminator loss: -3.879612] [Generator loss: -4.326324]\n",
      "[Epoch 1/1] [Batch 666/938] [Discriminator loss: -5.069564] [Generator loss: -4.055045]\n",
      "[Epoch 1/1] [Batch 671/938] [Discriminator loss: -5.464300] [Generator loss: -2.868232]\n",
      "[Epoch 1/1] [Batch 676/938] [Discriminator loss: -3.915041] [Generator loss: -1.213990]\n",
      "[Epoch 1/1] [Batch 681/938] [Discriminator loss: -4.284341] [Generator loss: -2.895596]\n",
      "[Epoch 1/1] [Batch 686/938] [Discriminator loss: -4.501102] [Generator loss: -3.783561]\n",
      "[Epoch 1/1] [Batch 691/938] [Discriminator loss: -3.775375] [Generator loss: -3.866264]\n",
      "[Epoch 1/1] [Batch 696/938] [Discriminator loss: -4.422344] [Generator loss: -1.988136]\n",
      "[Epoch 1/1] [Batch 701/938] [Discriminator loss: -3.677482] [Generator loss: -3.735735]\n",
      "[Epoch 1/1] [Batch 706/938] [Discriminator loss: -4.332925] [Generator loss: -2.253373]\n",
      "[Epoch 1/1] [Batch 711/938] [Discriminator loss: -3.701081] [Generator loss: -2.256390]\n",
      "[Epoch 1/1] [Batch 716/938] [Discriminator loss: -4.139796] [Generator loss: -2.260749]\n",
      "[Epoch 1/1] [Batch 721/938] [Discriminator loss: -5.210275] [Generator loss: -0.051715]\n",
      "[Epoch 1/1] [Batch 726/938] [Discriminator loss: -3.664814] [Generator loss: -0.359979]\n",
      "[Epoch 1/1] [Batch 731/938] [Discriminator loss: -4.439492] [Generator loss: -0.869424]\n",
      "[Epoch 1/1] [Batch 736/938] [Discriminator loss: -4.674963] [Generator loss: -1.391749]\n",
      "[Epoch 1/1] [Batch 741/938] [Discriminator loss: -4.912590] [Generator loss: -1.638233]\n",
      "[Epoch 1/1] [Batch 746/938] [Discriminator loss: -4.177707] [Generator loss: -1.676198]\n",
      "[Epoch 1/1] [Batch 751/938] [Discriminator loss: -4.246844] [Generator loss: -0.382009]\n",
      "[Epoch 1/1] [Batch 756/938] [Discriminator loss: -4.011766] [Generator loss: -1.045476]\n",
      "[Epoch 1/1] [Batch 761/938] [Discriminator loss: -5.555066] [Generator loss: 1.028870]\n",
      "[Epoch 1/1] [Batch 766/938] [Discriminator loss: -4.304465] [Generator loss: 1.768341]\n",
      "[Epoch 1/1] [Batch 771/938] [Discriminator loss: -4.277289] [Generator loss: 1.137021]\n",
      "[Epoch 1/1] [Batch 776/938] [Discriminator loss: -4.378932] [Generator loss: -0.634894]\n",
      "[Epoch 1/1] [Batch 781/938] [Discriminator loss: -3.917097] [Generator loss: -0.584332]\n",
      "[Epoch 1/1] [Batch 786/938] [Discriminator loss: -4.130735] [Generator loss: -0.485049]\n",
      "[Epoch 1/1] [Batch 791/938] [Discriminator loss: -4.704573] [Generator loss: -0.884247]\n",
      "[Epoch 1/1] [Batch 796/938] [Discriminator loss: -4.343863] [Generator loss: -0.626092]\n",
      "[Epoch 1/1] [Batch 801/938] [Discriminator loss: -3.904208] [Generator loss: 0.187884]\n",
      "[Epoch 1/1] [Batch 806/938] [Discriminator loss: -4.727995] [Generator loss: -0.009774]\n",
      "[Epoch 1/1] [Batch 811/938] [Discriminator loss: -4.886918] [Generator loss: 0.991970]\n",
      "[Epoch 1/1] [Batch 816/938] [Discriminator loss: -4.378551] [Generator loss: 0.280946]\n",
      "[Epoch 1/1] [Batch 821/938] [Discriminator loss: -4.685801] [Generator loss: -0.531323]\n",
      "[Epoch 1/1] [Batch 826/938] [Discriminator loss: -4.348417] [Generator loss: 0.188495]\n",
      "[Epoch 1/1] [Batch 831/938] [Discriminator loss: -4.715495] [Generator loss: 0.672166]\n",
      "[Epoch 1/1] [Batch 836/938] [Discriminator loss: -4.455167] [Generator loss: -1.292201]\n",
      "[Epoch 1/1] [Batch 841/938] [Discriminator loss: -3.810604] [Generator loss: 0.115441]\n",
      "[Epoch 1/1] [Batch 846/938] [Discriminator loss: -5.099977] [Generator loss: 0.704469]\n",
      "[Epoch 1/1] [Batch 851/938] [Discriminator loss: -4.492588] [Generator loss: 1.423820]\n",
      "[Epoch 1/1] [Batch 856/938] [Discriminator loss: -4.184528] [Generator loss: 1.215220]\n",
      "[Epoch 1/1] [Batch 861/938] [Discriminator loss: -3.972193] [Generator loss: -0.317051]\n",
      "[Epoch 1/1] [Batch 866/938] [Discriminator loss: -4.815309] [Generator loss: 2.907858]\n",
      "[Epoch 1/1] [Batch 871/938] [Discriminator loss: -4.550822] [Generator loss: 0.699792]\n",
      "[Epoch 1/1] [Batch 876/938] [Discriminator loss: -4.548938] [Generator loss: 0.888453]\n",
      "[Epoch 1/1] [Batch 881/938] [Discriminator loss: -4.441463] [Generator loss: -0.035476]\n",
      "[Epoch 1/1] [Batch 886/938] [Discriminator loss: -4.037103] [Generator loss: 0.446962]\n",
      "[Epoch 1/1] [Batch 891/938] [Discriminator loss: -4.702808] [Generator loss: -0.720954]\n",
      "[Epoch 1/1] [Batch 896/938] [Discriminator loss: -4.535254] [Generator loss: 0.404281]\n",
      "[Epoch 1/1] [Batch 901/938] [Discriminator loss: -4.397830] [Generator loss: -1.449883]\n",
      "[Epoch 1/1] [Batch 906/938] [Discriminator loss: -4.228114] [Generator loss: -1.042060]\n",
      "[Epoch 1/1] [Batch 911/938] [Discriminator loss: -4.460915] [Generator loss: -0.207437]\n",
      "[Epoch 1/1] [Batch 916/938] [Discriminator loss: -3.966516] [Generator loss: 0.005978]\n",
      "[Epoch 1/1] [Batch 921/938] [Discriminator loss: -4.857421] [Generator loss: -0.075229]\n",
      "[Epoch 1/1] [Batch 926/938] [Discriminator loss: -3.923078] [Generator loss: -1.004164]\n",
      "[Epoch 1/1] [Batch 931/938] [Discriminator loss: -4.398236] [Generator loss: -2.209562]\n"
     ]
    },
    {
     "name": "stdout",
     "output_type": "stream",
     "text": [
      "[Epoch 1/1] [Batch 936/938] [Discriminator loss: -5.052162] [Generator loss: -0.035790]\n"
     ]
    }
   ],
   "source": [
    "wgan_fashion_mnist_results: Results = Results(\"wgan_fashion_mnist\")\n",
    "\n",
    "params: Params = build_params(args, ModelType.WGAN_GP, DataType.FASHION_MNIST)\n",
    "    \n",
    "train: TrainWGan = TrainWGan(params, wgan_fashion_mnist_results.loss_updated_callback)\n",
    "train.run()"
   ]
  },
  {
   "cell_type": "code",
   "execution_count": 6,
   "metadata": {},
   "outputs": [
    {
     "data": {
      "image/png": "[encoded data removed]",
      "text/plain": [
       "<Figure size 432x288 with 1 Axes>"
      ]
     },
     "metadata": {
      "needs_background": "light"
     },
     "output_type": "display_data"
    }
   ],
   "source": [
    "wgan_fashion_mnist_generator_losses: {} = wgan_fashion_mnist_results.generator_losses\n",
    "wgan_fashion_mnist_discriminator_losses: {} = wgan_fashion_mnist_results.discriminator_losses\n",
    "\n",
    "plot(\"WGan_Fashion_Mnist\", \"Step\", \"Loss\", \n",
    "     \"Generator\", wgan_fashion_mnist_generator_losses, \n",
    "     \"Discriminator\", wgan_fashion_mnist_discriminator_losses)"
   ]
  },
  {
   "cell_type": "code",
   "execution_count": 7,
   "metadata": {},
   "outputs": [
    {
     "data": {
      "image/png": "[encoded data removed]",
      "text/plain": [
       "<IPython.core.display.Image object>"
      ]
     },
     "metadata": {},
     "output_type": "display_data"
    },
    {
     "data": {
      "image/png": "[encoded data removed]",
      "text/plain": [
       "<IPython.core.display.Image object>"
      ]
     },
     "metadata": {},
     "output_type": "display_data"
    }
   ],
   "source": [
    "wgan_fashion_mnist_last_generator: torch.nn.Module = wgan_fashion_mnist_results.last_generator\n",
    "generate_images(wgan_fashion_mnist_last_generator, \"wgan_fashion_mnist\")"
   ]
  },
  {
   "cell_type": "markdown",
   "metadata": {},
   "source": [
    "### WGan with Mnist"
   ]
  },
  {
   "cell_type": "code",
   "execution_count": 8,
   "metadata": {},
   "outputs": [
    {
     "name": "stdout",
     "output_type": "stream",
     "text": [
      "[Epoch 1/1] [Batch 1/938] [Discriminator loss: 8.310477] [Generator loss: -0.027509]\n",
      "[Epoch 1/1] [Batch 6/938] [Discriminator loss: 3.867913] [Generator loss: -0.043784]\n",
      "[Epoch 1/1] [Batch 11/938] [Discriminator loss: -6.633616] [Generator loss: -0.101405]\n",
      "[Epoch 1/1] [Batch 16/938] [Discriminator loss: -21.576265] [Generator loss: -0.264485]\n",
      "[Epoch 1/1] [Batch 21/938] [Discriminator loss: -34.067581] [Generator loss: -0.575988]\n",
      "[Epoch 1/1] [Batch 26/938] [Discriminator loss: -39.878616] [Generator loss: -0.922421]\n",
      "[Epoch 1/1] [Batch 31/938] [Discriminator loss: -40.866699] [Generator loss: -1.249537]\n",
      "[Epoch 1/1] [Batch 36/938] [Discriminator loss: -40.282146] [Generator loss: -1.588763]\n",
      "[Epoch 1/1] [Batch 41/938] [Discriminator loss: -41.247849] [Generator loss: -1.959338]\n",
      "[Epoch 1/1] [Batch 46/938] [Discriminator loss: -40.302521] [Generator loss: -2.291236]\n",
      "[Epoch 1/1] [Batch 51/938] [Discriminator loss: -40.524235] [Generator loss: -2.779611]\n",
      "[Epoch 1/1] [Batch 56/938] [Discriminator loss: -40.731472] [Generator loss: -3.114172]\n",
      "[Epoch 1/1] [Batch 61/938] [Discriminator loss: -39.684029] [Generator loss: -3.576741]\n",
      "[Epoch 1/1] [Batch 66/938] [Discriminator loss: -39.050457] [Generator loss: -4.298175]\n",
      "[Epoch 1/1] [Batch 71/938] [Discriminator loss: -37.392525] [Generator loss: -4.730742]\n",
      "[Epoch 1/1] [Batch 76/938] [Discriminator loss: -37.319389] [Generator loss: -5.333953]\n",
      "[Epoch 1/1] [Batch 81/938] [Discriminator loss: -36.827972] [Generator loss: -5.967037]\n",
      "[Epoch 1/1] [Batch 86/938] [Discriminator loss: -36.152657] [Generator loss: -6.661087]\n",
      "[Epoch 1/1] [Batch 91/938] [Discriminator loss: -34.443478] [Generator loss: -7.389667]\n",
      "[Epoch 1/1] [Batch 96/938] [Discriminator loss: -33.766575] [Generator loss: -8.168905]\n",
      "[Epoch 1/1] [Batch 101/938] [Discriminator loss: -32.843624] [Generator loss: -9.118169]\n",
      "[Epoch 1/1] [Batch 106/938] [Discriminator loss: -32.192310] [Generator loss: -10.023312]\n",
      "[Epoch 1/1] [Batch 111/938] [Discriminator loss: -30.449684] [Generator loss: -11.176126]\n",
      "[Epoch 1/1] [Batch 116/938] [Discriminator loss: -29.783134] [Generator loss: -12.074621]\n",
      "[Epoch 1/1] [Batch 121/938] [Discriminator loss: -27.546673] [Generator loss: -13.576393]\n",
      "[Epoch 1/1] [Batch 126/938] [Discriminator loss: -26.488297] [Generator loss: -14.459287]\n",
      "[Epoch 1/1] [Batch 131/938] [Discriminator loss: -24.853073] [Generator loss: -15.620739]\n",
      "[Epoch 1/1] [Batch 136/938] [Discriminator loss: -24.393166] [Generator loss: -15.932781]\n",
      "[Epoch 1/1] [Batch 141/938] [Discriminator loss: -20.570335] [Generator loss: -18.342987]\n",
      "[Epoch 1/1] [Batch 146/938] [Discriminator loss: -19.552208] [Generator loss: -19.394241]\n",
      "[Epoch 1/1] [Batch 151/938] [Discriminator loss: -17.733238] [Generator loss: -20.195225]\n",
      "[Epoch 1/1] [Batch 156/938] [Discriminator loss: -17.010836] [Generator loss: -20.380232]\n",
      "[Epoch 1/1] [Batch 161/938] [Discriminator loss: -16.100849] [Generator loss: -19.995918]\n",
      "[Epoch 1/1] [Batch 166/938] [Discriminator loss: -13.272835] [Generator loss: -21.760990]\n",
      "[Epoch 1/1] [Batch 171/938] [Discriminator loss: -11.553438] [Generator loss: -22.850189]\n",
      "[Epoch 1/1] [Batch 176/938] [Discriminator loss: -11.222212] [Generator loss: -23.140169]\n",
      "[Epoch 1/1] [Batch 181/938] [Discriminator loss: -9.236645] [Generator loss: -23.568653]\n",
      "[Epoch 1/1] [Batch 186/938] [Discriminator loss: -9.477017] [Generator loss: -22.670954]\n",
      "[Epoch 1/1] [Batch 191/938] [Discriminator loss: -6.723719] [Generator loss: -23.733395]\n",
      "[Epoch 1/1] [Batch 196/938] [Discriminator loss: -7.663271] [Generator loss: -22.581587]\n",
      "[Epoch 1/1] [Batch 201/938] [Discriminator loss: -6.735086] [Generator loss: -22.234171]\n",
      "[Epoch 1/1] [Batch 206/938] [Discriminator loss: -6.456773] [Generator loss: -22.063871]\n",
      "[Epoch 1/1] [Batch 211/938] [Discriminator loss: -4.945858] [Generator loss: -22.275278]\n",
      "[Epoch 1/1] [Batch 216/938] [Discriminator loss: -4.378529] [Generator loss: -22.225945]\n",
      "[Epoch 1/1] [Batch 221/938] [Discriminator loss: -4.755167] [Generator loss: -21.131439]\n",
      "[Epoch 1/1] [Batch 226/938] [Discriminator loss: -4.941985] [Generator loss: -20.750320]\n",
      "[Epoch 1/1] [Batch 231/938] [Discriminator loss: -3.572838] [Generator loss: -22.046551]\n",
      "[Epoch 1/1] [Batch 236/938] [Discriminator loss: -3.853404] [Generator loss: -21.670780]\n",
      "[Epoch 1/1] [Batch 241/938] [Discriminator loss: -3.870316] [Generator loss: -21.725260]\n",
      "[Epoch 1/1] [Batch 246/938] [Discriminator loss: -3.184196] [Generator loss: -21.414209]\n",
      "[Epoch 1/1] [Batch 251/938] [Discriminator loss: -2.593704] [Generator loss: -20.781397]\n",
      "[Epoch 1/1] [Batch 256/938] [Discriminator loss: -3.170714] [Generator loss: -19.992243]\n",
      "[Epoch 1/1] [Batch 261/938] [Discriminator loss: -2.230940] [Generator loss: -20.469486]\n",
      "[Epoch 1/1] [Batch 266/938] [Discriminator loss: -2.522909] [Generator loss: -20.082699]\n",
      "[Epoch 1/1] [Batch 271/938] [Discriminator loss: -2.373861] [Generator loss: -19.976156]\n",
      "[Epoch 1/1] [Batch 276/938] [Discriminator loss: -2.527882] [Generator loss: -19.480846]\n",
      "[Epoch 1/1] [Batch 281/938] [Discriminator loss: -1.927499] [Generator loss: -19.573341]\n",
      "[Epoch 1/1] [Batch 286/938] [Discriminator loss: -2.168929] [Generator loss: -19.783560]\n",
      "[Epoch 1/1] [Batch 291/938] [Discriminator loss: -2.361853] [Generator loss: -19.477262]\n",
      "[Epoch 1/1] [Batch 296/938] [Discriminator loss: -2.195116] [Generator loss: -19.450680]\n",
      "[Epoch 1/1] [Batch 301/938] [Discriminator loss: -1.916047] [Generator loss: -19.594666]\n",
      "[Epoch 1/1] [Batch 306/938] [Discriminator loss: -1.814787] [Generator loss: -18.706446]\n",
      "[Epoch 1/1] [Batch 311/938] [Discriminator loss: -1.561140] [Generator loss: -18.711529]\n",
      "[Epoch 1/1] [Batch 316/938] [Discriminator loss: -1.410603] [Generator loss: -18.659462]\n",
      "[Epoch 1/1] [Batch 321/938] [Discriminator loss: -1.405331] [Generator loss: -19.423376]\n",
      "[Epoch 1/1] [Batch 326/938] [Discriminator loss: -1.516659] [Generator loss: -19.282831]\n",
      "[Epoch 1/1] [Batch 331/938] [Discriminator loss: -1.878271] [Generator loss: -18.264284]\n",
      "[Epoch 1/1] [Batch 336/938] [Discriminator loss: -1.404789] [Generator loss: -18.012571]\n",
      "[Epoch 1/1] [Batch 341/938] [Discriminator loss: -1.751503] [Generator loss: -17.645674]\n",
      "[Epoch 1/1] [Batch 346/938] [Discriminator loss: -1.592724] [Generator loss: -17.650217]\n",
      "[Epoch 1/1] [Batch 351/938] [Discriminator loss: -1.454479] [Generator loss: -17.180769]\n",
      "[Epoch 1/1] [Batch 356/938] [Discriminator loss: -1.375811] [Generator loss: -17.196413]\n",
      "[Epoch 1/1] [Batch 361/938] [Discriminator loss: -1.585301] [Generator loss: -17.225288]\n",
      "[Epoch 1/1] [Batch 366/938] [Discriminator loss: -1.753889] [Generator loss: -16.960850]\n",
      "[Epoch 1/1] [Batch 371/938] [Discriminator loss: -1.742800] [Generator loss: -16.502869]\n",
      "[Epoch 1/1] [Batch 376/938] [Discriminator loss: -1.845843] [Generator loss: -16.572538]\n",
      "[Epoch 1/1] [Batch 381/938] [Discriminator loss: -1.930400] [Generator loss: -16.806553]\n",
      "[Epoch 1/1] [Batch 386/938] [Discriminator loss: -1.535350] [Generator loss: -16.292322]\n",
      "[Epoch 1/1] [Batch 391/938] [Discriminator loss: -1.655507] [Generator loss: -16.209425]\n",
      "[Epoch 1/1] [Batch 396/938] [Discriminator loss: -1.783828] [Generator loss: -16.114540]\n",
      "[Epoch 1/1] [Batch 401/938] [Discriminator loss: -1.716171] [Generator loss: -16.179090]\n",
      "[Epoch 1/1] [Batch 406/938] [Discriminator loss: -1.896191] [Generator loss: -15.645000]\n",
      "[Epoch 1/1] [Batch 411/938] [Discriminator loss: -1.195568] [Generator loss: -15.240397]\n",
      "[Epoch 1/1] [Batch 416/938] [Discriminator loss: -1.874780] [Generator loss: -15.892031]\n",
      "[Epoch 1/1] [Batch 421/938] [Discriminator loss: -1.797323] [Generator loss: -15.791412]\n",
      "[Epoch 1/1] [Batch 426/938] [Discriminator loss: -1.511699] [Generator loss: -15.119951]\n",
      "[Epoch 1/1] [Batch 431/938] [Discriminator loss: -1.853412] [Generator loss: -14.813055]\n",
      "[Epoch 1/1] [Batch 436/938] [Discriminator loss: -1.708356] [Generator loss: -14.528861]\n",
      "[Epoch 1/1] [Batch 441/938] [Discriminator loss: -1.726952] [Generator loss: -13.809501]\n",
      "[Epoch 1/1] [Batch 446/938] [Discriminator loss: -1.787624] [Generator loss: -13.101310]\n",
      "[Epoch 1/1] [Batch 451/938] [Discriminator loss: -1.826298] [Generator loss: -12.497207]\n",
      "[Epoch 1/1] [Batch 456/938] [Discriminator loss: -1.981744] [Generator loss: -12.434393]\n",
      "[Epoch 1/1] [Batch 461/938] [Discriminator loss: -1.729466] [Generator loss: -12.443355]\n"
     ]
    },
    {
     "name": "stdout",
     "output_type": "stream",
     "text": [
      "[Epoch 1/1] [Batch 466/938] [Discriminator loss: -2.032790] [Generator loss: -11.809728]\n",
      "[Epoch 1/1] [Batch 471/938] [Discriminator loss: -1.767362] [Generator loss: -10.988163]\n",
      "[Epoch 1/1] [Batch 476/938] [Discriminator loss: -2.262030] [Generator loss: -9.689165]\n",
      "[Epoch 1/1] [Batch 481/938] [Discriminator loss: -1.934237] [Generator loss: -9.894402]\n",
      "[Epoch 1/1] [Batch 486/938] [Discriminator loss: -2.292467] [Generator loss: -9.839870]\n",
      "[Epoch 1/1] [Batch 491/938] [Discriminator loss: -2.704905] [Generator loss: -9.960886]\n",
      "[Epoch 1/1] [Batch 496/938] [Discriminator loss: -2.546754] [Generator loss: -9.543620]\n",
      "[Epoch 1/1] [Batch 501/938] [Discriminator loss: -2.464449] [Generator loss: -7.263513]\n",
      "[Epoch 1/1] [Batch 506/938] [Discriminator loss: -2.862906] [Generator loss: -6.393685]\n",
      "[Epoch 1/1] [Batch 511/938] [Discriminator loss: -3.275602] [Generator loss: -5.660005]\n",
      "[Epoch 1/1] [Batch 516/938] [Discriminator loss: -2.839730] [Generator loss: -5.011618]\n",
      "[Epoch 1/1] [Batch 521/938] [Discriminator loss: -2.888769] [Generator loss: -6.534298]\n",
      "[Epoch 1/1] [Batch 526/938] [Discriminator loss: -3.107043] [Generator loss: -6.945960]\n",
      "[Epoch 1/1] [Batch 531/938] [Discriminator loss: -2.997685] [Generator loss: -6.700226]\n",
      "[Epoch 1/1] [Batch 536/938] [Discriminator loss: -3.268628] [Generator loss: -7.836641]\n",
      "[Epoch 1/1] [Batch 541/938] [Discriminator loss: -3.343216] [Generator loss: -7.258485]\n",
      "[Epoch 1/1] [Batch 546/938] [Discriminator loss: -3.733791] [Generator loss: -8.021907]\n",
      "[Epoch 1/1] [Batch 551/938] [Discriminator loss: -3.666384] [Generator loss: -8.017209]\n",
      "[Epoch 1/1] [Batch 556/938] [Discriminator loss: -3.723037] [Generator loss: -6.924401]\n",
      "[Epoch 1/1] [Batch 561/938] [Discriminator loss: -3.146150] [Generator loss: -6.686436]\n",
      "[Epoch 1/1] [Batch 566/938] [Discriminator loss: -3.478798] [Generator loss: -6.264045]\n",
      "[Epoch 1/1] [Batch 571/938] [Discriminator loss: -4.004134] [Generator loss: -5.325867]\n",
      "[Epoch 1/1] [Batch 576/938] [Discriminator loss: -4.150458] [Generator loss: -4.903708]\n",
      "[Epoch 1/1] [Batch 581/938] [Discriminator loss: -4.534186] [Generator loss: -4.885747]\n",
      "[Epoch 1/1] [Batch 586/938] [Discriminator loss: -5.008580] [Generator loss: -4.635371]\n",
      "[Epoch 1/1] [Batch 591/938] [Discriminator loss: -5.019480] [Generator loss: -4.796331]\n",
      "[Epoch 1/1] [Batch 596/938] [Discriminator loss: -5.285009] [Generator loss: -3.602904]\n",
      "[Epoch 1/1] [Batch 601/938] [Discriminator loss: -5.622857] [Generator loss: -1.473119]\n",
      "[Epoch 1/1] [Batch 606/938] [Discriminator loss: -5.712009] [Generator loss: -1.210529]\n",
      "[Epoch 1/1] [Batch 611/938] [Discriminator loss: -6.462630] [Generator loss: -1.301972]\n",
      "[Epoch 1/1] [Batch 616/938] [Discriminator loss: -6.608870] [Generator loss: -0.215409]\n",
      "[Epoch 1/1] [Batch 621/938] [Discriminator loss: -6.185757] [Generator loss: 0.424718]\n",
      "[Epoch 1/1] [Batch 626/938] [Discriminator loss: -6.474115] [Generator loss: -2.116826]\n",
      "[Epoch 1/1] [Batch 631/938] [Discriminator loss: -7.202144] [Generator loss: 1.094574]\n",
      "[Epoch 1/1] [Batch 636/938] [Discriminator loss: -7.471442] [Generator loss: 1.027621]\n",
      "[Epoch 1/1] [Batch 641/938] [Discriminator loss: -6.694142] [Generator loss: 0.927219]\n",
      "[Epoch 1/1] [Batch 646/938] [Discriminator loss: -7.352187] [Generator loss: -0.548935]\n",
      "[Epoch 1/1] [Batch 651/938] [Discriminator loss: -6.048999] [Generator loss: 2.092425]\n",
      "[Epoch 1/1] [Batch 656/938] [Discriminator loss: -6.313515] [Generator loss: 0.985932]\n",
      "[Epoch 1/1] [Batch 661/938] [Discriminator loss: -6.791099] [Generator loss: 1.477871]\n",
      "[Epoch 1/1] [Batch 666/938] [Discriminator loss: -6.781026] [Generator loss: 0.573112]\n",
      "[Epoch 1/1] [Batch 671/938] [Discriminator loss: -6.355919] [Generator loss: 0.490765]\n",
      "[Epoch 1/1] [Batch 676/938] [Discriminator loss: -5.878035] [Generator loss: 1.121754]\n",
      "[Epoch 1/1] [Batch 681/938] [Discriminator loss: -6.806752] [Generator loss: 1.804521]\n",
      "[Epoch 1/1] [Batch 686/938] [Discriminator loss: -6.425767] [Generator loss: 1.800921]\n",
      "[Epoch 1/1] [Batch 691/938] [Discriminator loss: -7.057281] [Generator loss: -0.444873]\n",
      "[Epoch 1/1] [Batch 696/938] [Discriminator loss: -6.597022] [Generator loss: 0.266763]\n",
      "[Epoch 1/1] [Batch 701/938] [Discriminator loss: -6.471035] [Generator loss: 0.300221]\n",
      "[Epoch 1/1] [Batch 706/938] [Discriminator loss: -6.279503] [Generator loss: -1.248524]\n",
      "[Epoch 1/1] [Batch 711/938] [Discriminator loss: -7.377741] [Generator loss: 1.521638]\n",
      "[Epoch 1/1] [Batch 716/938] [Discriminator loss: -6.546984] [Generator loss: -1.077447]\n",
      "[Epoch 1/1] [Batch 721/938] [Discriminator loss: -6.356707] [Generator loss: -1.501014]\n",
      "[Epoch 1/1] [Batch 726/938] [Discriminator loss: -7.385238] [Generator loss: -0.685595]\n",
      "[Epoch 1/1] [Batch 731/938] [Discriminator loss: -6.651883] [Generator loss: -1.540538]\n",
      "[Epoch 1/1] [Batch 736/938] [Discriminator loss: -6.347648] [Generator loss: -1.207216]\n",
      "[Epoch 1/1] [Batch 741/938] [Discriminator loss: -6.981000] [Generator loss: -0.327866]\n",
      "[Epoch 1/1] [Batch 746/938] [Discriminator loss: -7.188653] [Generator loss: 0.353699]\n",
      "[Epoch 1/1] [Batch 751/938] [Discriminator loss: -7.359199] [Generator loss: 0.741829]\n",
      "[Epoch 1/1] [Batch 756/938] [Discriminator loss: -7.189030] [Generator loss: 0.950598]\n",
      "[Epoch 1/1] [Batch 761/938] [Discriminator loss: -7.298934] [Generator loss: 0.659287]\n",
      "[Epoch 1/1] [Batch 766/938] [Discriminator loss: -7.680214] [Generator loss: 1.068969]\n",
      "[Epoch 1/1] [Batch 771/938] [Discriminator loss: -8.413892] [Generator loss: 1.340027]\n",
      "[Epoch 1/1] [Batch 776/938] [Discriminator loss: -6.714032] [Generator loss: 1.756321]\n",
      "[Epoch 1/1] [Batch 781/938] [Discriminator loss: -7.801313] [Generator loss: 1.888825]\n",
      "[Epoch 1/1] [Batch 786/938] [Discriminator loss: -7.254916] [Generator loss: 1.174160]\n",
      "[Epoch 1/1] [Batch 791/938] [Discriminator loss: -7.564683] [Generator loss: 0.325115]\n",
      "[Epoch 1/1] [Batch 796/938] [Discriminator loss: -7.275336] [Generator loss: 0.874346]\n",
      "[Epoch 1/1] [Batch 801/938] [Discriminator loss: -7.946887] [Generator loss: 1.331612]\n",
      "[Epoch 1/1] [Batch 806/938] [Discriminator loss: -8.086037] [Generator loss: 1.458207]\n",
      "[Epoch 1/1] [Batch 811/938] [Discriminator loss: -7.447888] [Generator loss: 1.952660]\n",
      "[Epoch 1/1] [Batch 816/938] [Discriminator loss: -6.688354] [Generator loss: -0.198973]\n",
      "[Epoch 1/1] [Batch 821/938] [Discriminator loss: -7.751366] [Generator loss: 0.182644]\n",
      "[Epoch 1/1] [Batch 826/938] [Discriminator loss: -7.010487] [Generator loss: 0.070766]\n",
      "[Epoch 1/1] [Batch 831/938] [Discriminator loss: -6.446845] [Generator loss: -0.415883]\n",
      "[Epoch 1/1] [Batch 836/938] [Discriminator loss: -7.286060] [Generator loss: 0.232537]\n",
      "[Epoch 1/1] [Batch 841/938] [Discriminator loss: -6.938059] [Generator loss: 1.177147]\n",
      "[Epoch 1/1] [Batch 846/938] [Discriminator loss: -7.697352] [Generator loss: -0.440939]\n",
      "[Epoch 1/1] [Batch 851/938] [Discriminator loss: -6.805365] [Generator loss: -0.141707]\n",
      "[Epoch 1/1] [Batch 856/938] [Discriminator loss: -7.055180] [Generator loss: 0.222579]\n",
      "[Epoch 1/1] [Batch 861/938] [Discriminator loss: -7.568678] [Generator loss: 0.018736]\n",
      "[Epoch 1/1] [Batch 866/938] [Discriminator loss: -8.118576] [Generator loss: 0.536009]\n",
      "[Epoch 1/1] [Batch 871/938] [Discriminator loss: -7.268259] [Generator loss: 0.691717]\n",
      "[Epoch 1/1] [Batch 876/938] [Discriminator loss: -7.412065] [Generator loss: 0.494846]\n",
      "[Epoch 1/1] [Batch 881/938] [Discriminator loss: -7.511421] [Generator loss: -0.170926]\n",
      "[Epoch 1/1] [Batch 886/938] [Discriminator loss: -7.810861] [Generator loss: 1.213853]\n",
      "[Epoch 1/1] [Batch 891/938] [Discriminator loss: -7.390991] [Generator loss: 1.367941]\n",
      "[Epoch 1/1] [Batch 896/938] [Discriminator loss: -7.880709] [Generator loss: 1.258625]\n",
      "[Epoch 1/1] [Batch 901/938] [Discriminator loss: -8.455236] [Generator loss: 1.385022]\n",
      "[Epoch 1/1] [Batch 906/938] [Discriminator loss: -7.222555] [Generator loss: 1.349168]\n",
      "[Epoch 1/1] [Batch 911/938] [Discriminator loss: -7.647900] [Generator loss: 0.658570]\n",
      "[Epoch 1/1] [Batch 916/938] [Discriminator loss: -7.790652] [Generator loss: 1.418639]\n",
      "[Epoch 1/1] [Batch 921/938] [Discriminator loss: -7.192844] [Generator loss: 0.659776]\n",
      "[Epoch 1/1] [Batch 926/938] [Discriminator loss: -7.706934] [Generator loss: 1.356973]\n",
      "[Epoch 1/1] [Batch 931/938] [Discriminator loss: -7.803938] [Generator loss: -0.151357]\n"
     ]
    },
    {
     "name": "stdout",
     "output_type": "stream",
     "text": [
      "[Epoch 1/1] [Batch 936/938] [Discriminator loss: -7.631315] [Generator loss: 1.340605]\n"
     ]
    }
   ],
   "source": [
    "wgan_mnist_results: Results = Results(\"wgan_mnist\")\n",
    "\n",
    "params: Params = build_params(args, ModelType.WGAN_GP, DataType.MNIST)\n",
    "    \n",
    "train: TrainWGan = TrainWGan(params, wgan_mnist_results.loss_updated_callback)\n",
    "train.run()"
   ]
  },
  {
   "cell_type": "code",
   "execution_count": 9,
   "metadata": {},
   "outputs": [
    {
     "data": {
      "image/png": "[encoded data removed]",
      "text/plain": [
       "<Figure size 432x288 with 1 Axes>"
      ]
     },
     "metadata": {
      "needs_background": "light"
     },
     "output_type": "display_data"
    }
   ],
   "source": [
    "wgan_mnist_generator_losses: {} = wgan_mnist_results.generator_losses\n",
    "wgan_mnist_discriminator_losses: {} = wgan_mnist_results.discriminator_losses\n",
    "\n",
    "plot(\"WGan_Mnist\", \"Step\", \"Loss\", \n",
    "     \"Generator\", wgan_mnist_generator_losses, \n",
    "     \"Discriminator\", wgan_mnist_discriminator_losses)"
   ]
  },
  {
   "cell_type": "code",
   "execution_count": 10,
   "metadata": {},
   "outputs": [
    {
     "data": {
      "image/png": "[encoded data removed]",
      "text/plain": [
       "<IPython.core.display.Image object>"
      ]
     },
     "metadata": {},
     "output_type": "display_data"
    },
    {
     "data": {
      "image/png": "[encoded data removed]",
      "text/plain": [
       "<IPython.core.display.Image object>"
      ]
     },
     "metadata": {},
     "output_type": "display_data"
    }
   ],
   "source": [
    "wgan_mnist_last_generator: torch.nn.Module = wgan_mnist_results.last_generator\n",
    "generate_images(wgan_mnist_last_generator, \"wgan_mnist\")"
   ]
  },
  {
   "cell_type": "markdown",
   "metadata": {},
   "source": [
    "### WGan with Cifar10"
   ]
  },
  {
   "cell_type": "code",
   "execution_count": 11,
   "metadata": {},
   "outputs": [
    {
     "name": "stdout",
     "output_type": "stream",
     "text": [
      "Files already downloaded and verified\n",
      "[Epoch 1/1] [Batch 1/782] [Discriminator loss: 8.023685] [Generator loss: 0.037054]\n",
      "[Epoch 1/1] [Batch 6/782] [Discriminator loss: 4.426694] [Generator loss: 0.021999]\n",
      "[Epoch 1/1] [Batch 11/782] [Discriminator loss: -0.855850] [Generator loss: -0.075165]\n",
      "[Epoch 1/1] [Batch 16/782] [Discriminator loss: -4.593712] [Generator loss: -0.243568]\n",
      "[Epoch 1/1] [Batch 21/782] [Discriminator loss: -6.986066] [Generator loss: -0.395720]\n",
      "[Epoch 1/1] [Batch 26/782] [Discriminator loss: -9.532028] [Generator loss: -0.471701]\n",
      "[Epoch 1/1] [Batch 31/782] [Discriminator loss: -12.792260] [Generator loss: -0.588921]\n",
      "[Epoch 1/1] [Batch 36/782] [Discriminator loss: -16.598328] [Generator loss: -0.765288]\n",
      "[Epoch 1/1] [Batch 41/782] [Discriminator loss: -17.689434] [Generator loss: -0.879538]\n",
      "[Epoch 1/1] [Batch 46/782] [Discriminator loss: -16.176258] [Generator loss: -1.165065]\n",
      "[Epoch 1/1] [Batch 51/782] [Discriminator loss: -16.541260] [Generator loss: -1.539863]\n",
      "[Epoch 1/1] [Batch 56/782] [Discriminator loss: -17.666260] [Generator loss: -2.039131]\n",
      "[Epoch 1/1] [Batch 61/782] [Discriminator loss: -19.242668] [Generator loss: -2.328936]\n",
      "[Epoch 1/1] [Batch 66/782] [Discriminator loss: -18.393700] [Generator loss: -2.750247]\n",
      "[Epoch 1/1] [Batch 71/782] [Discriminator loss: -18.999689] [Generator loss: -3.019145]\n",
      "[Epoch 1/1] [Batch 76/782] [Discriminator loss: -19.178104] [Generator loss: -2.814723]\n",
      "[Epoch 1/1] [Batch 81/782] [Discriminator loss: -16.331692] [Generator loss: -3.611030]\n",
      "[Epoch 1/1] [Batch 86/782] [Discriminator loss: -18.584797] [Generator loss: -3.668806]\n",
      "[Epoch 1/1] [Batch 91/782] [Discriminator loss: -18.484516] [Generator loss: -3.253764]\n",
      "[Epoch 1/1] [Batch 96/782] [Discriminator loss: -21.962292] [Generator loss: -3.346806]\n",
      "[Epoch 1/1] [Batch 101/782] [Discriminator loss: -16.847607] [Generator loss: -3.236804]\n",
      "[Epoch 1/1] [Batch 106/782] [Discriminator loss: -17.448673] [Generator loss: -2.873579]\n",
      "[Epoch 1/1] [Batch 111/782] [Discriminator loss: -18.492413] [Generator loss: -2.381351]\n",
      "[Epoch 1/1] [Batch 116/782] [Discriminator loss: -24.517851] [Generator loss: -0.992794]\n",
      "[Epoch 1/1] [Batch 121/782] [Discriminator loss: -20.026688] [Generator loss: -1.932585]\n",
      "[Epoch 1/1] [Batch 126/782] [Discriminator loss: -19.949812] [Generator loss: -1.258313]\n",
      "[Epoch 1/1] [Batch 131/782] [Discriminator loss: -19.954185] [Generator loss: -1.273463]\n",
      "[Epoch 1/1] [Batch 136/782] [Discriminator loss: -20.554222] [Generator loss: -1.405850]\n",
      "[Epoch 1/1] [Batch 141/782] [Discriminator loss: -18.242432] [Generator loss: -2.320290]\n",
      "[Epoch 1/1] [Batch 146/782] [Discriminator loss: -19.190269] [Generator loss: -1.672468]\n",
      "[Epoch 1/1] [Batch 151/782] [Discriminator loss: -19.807377] [Generator loss: 0.259183]\n",
      "[Epoch 1/1] [Batch 156/782] [Discriminator loss: -18.891985] [Generator loss: 0.267741]\n",
      "[Epoch 1/1] [Batch 161/782] [Discriminator loss: -13.437480] [Generator loss: -0.551513]\n",
      "[Epoch 1/1] [Batch 166/782] [Discriminator loss: -16.951111] [Generator loss: 1.334153]\n",
      "[Epoch 1/1] [Batch 171/782] [Discriminator loss: -20.140882] [Generator loss: 1.333674]\n",
      "[Epoch 1/1] [Batch 176/782] [Discriminator loss: -17.964294] [Generator loss: 0.973706]\n",
      "[Epoch 1/1] [Batch 181/782] [Discriminator loss: -20.148117] [Generator loss: 1.366230]\n",
      "[Epoch 1/1] [Batch 186/782] [Discriminator loss: -17.437021] [Generator loss: -0.440504]\n",
      "[Epoch 1/1] [Batch 191/782] [Discriminator loss: -20.617121] [Generator loss: -2.521145]\n",
      "[Epoch 1/1] [Batch 196/782] [Discriminator loss: -16.246000] [Generator loss: -2.854297]\n",
      "[Epoch 1/1] [Batch 201/782] [Discriminator loss: -23.011574] [Generator loss: 0.070751]\n",
      "[Epoch 1/1] [Batch 206/782] [Discriminator loss: -21.237215] [Generator loss: 0.087323]\n",
      "[Epoch 1/1] [Batch 211/782] [Discriminator loss: -19.663193] [Generator loss: 0.986357]\n",
      "[Epoch 1/1] [Batch 216/782] [Discriminator loss: -18.625292] [Generator loss: 4.669653]\n",
      "[Epoch 1/1] [Batch 221/782] [Discriminator loss: -17.066278] [Generator loss: 4.432302]\n",
      "[Epoch 1/1] [Batch 226/782] [Discriminator loss: -21.900171] [Generator loss: 0.175470]\n",
      "[Epoch 1/1] [Batch 231/782] [Discriminator loss: -16.864555] [Generator loss: -1.589581]\n",
      "[Epoch 1/1] [Batch 236/782] [Discriminator loss: -17.669662] [Generator loss: -0.163625]\n",
      "[Epoch 1/1] [Batch 241/782] [Discriminator loss: -18.502670] [Generator loss: 1.290891]\n",
      "[Epoch 1/1] [Batch 246/782] [Discriminator loss: -18.381100] [Generator loss: 3.780632]\n",
      "[Epoch 1/1] [Batch 251/782] [Discriminator loss: -20.958931] [Generator loss: 3.223709]\n",
      "[Epoch 1/1] [Batch 256/782] [Discriminator loss: -17.828506] [Generator loss: -0.589005]\n",
      "[Epoch 1/1] [Batch 261/782] [Discriminator loss: -15.662187] [Generator loss: -2.369205]\n",
      "[Epoch 1/1] [Batch 266/782] [Discriminator loss: -18.431763] [Generator loss: -2.704502]\n",
      "[Epoch 1/1] [Batch 271/782] [Discriminator loss: -15.719025] [Generator loss: -1.384332]\n",
      "[Epoch 1/1] [Batch 276/782] [Discriminator loss: -16.018520] [Generator loss: 0.293608]\n",
      "[Epoch 1/1] [Batch 281/782] [Discriminator loss: -17.609283] [Generator loss: -1.914715]\n",
      "[Epoch 1/1] [Batch 286/782] [Discriminator loss: -19.904703] [Generator loss: 1.065025]\n",
      "[Epoch 1/1] [Batch 291/782] [Discriminator loss: -14.183029] [Generator loss: -1.612571]\n",
      "[Epoch 1/1] [Batch 296/782] [Discriminator loss: -18.423388] [Generator loss: 1.939918]\n",
      "[Epoch 1/1] [Batch 301/782] [Discriminator loss: -16.198280] [Generator loss: 1.203061]\n",
      "[Epoch 1/1] [Batch 306/782] [Discriminator loss: -15.197292] [Generator loss: -0.366375]\n",
      "[Epoch 1/1] [Batch 311/782] [Discriminator loss: -14.901005] [Generator loss: -3.393273]\n",
      "[Epoch 1/1] [Batch 316/782] [Discriminator loss: -15.601178] [Generator loss: -3.827338]\n",
      "[Epoch 1/1] [Batch 321/782] [Discriminator loss: -13.023478] [Generator loss: -2.787594]\n",
      "[Epoch 1/1] [Batch 326/782] [Discriminator loss: -14.906236] [Generator loss: -2.681722]\n",
      "[Epoch 1/1] [Batch 331/782] [Discriminator loss: -15.410383] [Generator loss: -0.693596]\n",
      "[Epoch 1/1] [Batch 336/782] [Discriminator loss: -12.290630] [Generator loss: 0.600885]\n",
      "[Epoch 1/1] [Batch 341/782] [Discriminator loss: -13.384075] [Generator loss: 0.574023]\n",
      "[Epoch 1/1] [Batch 346/782] [Discriminator loss: -10.864330] [Generator loss: 0.469132]\n",
      "[Epoch 1/1] [Batch 351/782] [Discriminator loss: -13.559929] [Generator loss: 1.168768]\n",
      "[Epoch 1/1] [Batch 356/782] [Discriminator loss: -12.796582] [Generator loss: 0.867815]\n",
      "[Epoch 1/1] [Batch 361/782] [Discriminator loss: -12.141702] [Generator loss: -0.908706]\n",
      "[Epoch 1/1] [Batch 366/782] [Discriminator loss: -12.053469] [Generator loss: -2.888942]\n",
      "[Epoch 1/1] [Batch 371/782] [Discriminator loss: -12.852776] [Generator loss: -2.985453]\n",
      "[Epoch 1/1] [Batch 376/782] [Discriminator loss: -11.864463] [Generator loss: -2.228663]\n",
      "[Epoch 1/1] [Batch 381/782] [Discriminator loss: -11.297518] [Generator loss: -3.207559]\n",
      "[Epoch 1/1] [Batch 386/782] [Discriminator loss: -9.725883] [Generator loss: -2.081078]\n",
      "[Epoch 1/1] [Batch 391/782] [Discriminator loss: -11.569688] [Generator loss: 0.604546]\n",
      "[Epoch 1/1] [Batch 396/782] [Discriminator loss: -11.598969] [Generator loss: 1.930096]\n",
      "[Epoch 1/1] [Batch 401/782] [Discriminator loss: -11.356878] [Generator loss: 3.851071]\n",
      "[Epoch 1/1] [Batch 406/782] [Discriminator loss: -11.505602] [Generator loss: 3.204821]\n",
      "[Epoch 1/1] [Batch 411/782] [Discriminator loss: -10.039671] [Generator loss: 1.165505]\n",
      "[Epoch 1/1] [Batch 416/782] [Discriminator loss: -10.840097] [Generator loss: -1.377803]\n",
      "[Epoch 1/1] [Batch 421/782] [Discriminator loss: -11.306334] [Generator loss: -1.946645]\n",
      "[Epoch 1/1] [Batch 426/782] [Discriminator loss: -9.689920] [Generator loss: -3.160352]\n",
      "[Epoch 1/1] [Batch 431/782] [Discriminator loss: -9.966165] [Generator loss: -3.818814]\n",
      "[Epoch 1/1] [Batch 436/782] [Discriminator loss: -9.147221] [Generator loss: -1.261497]\n",
      "[Epoch 1/1] [Batch 441/782] [Discriminator loss: -11.158610] [Generator loss: -1.605853]\n",
      "[Epoch 1/1] [Batch 446/782] [Discriminator loss: -10.561950] [Generator loss: -1.352759]\n",
      "[Epoch 1/1] [Batch 451/782] [Discriminator loss: -11.683143] [Generator loss: -1.588186]\n",
      "[Epoch 1/1] [Batch 456/782] [Discriminator loss: -10.565462] [Generator loss: 0.439881]\n",
      "[Epoch 1/1] [Batch 461/782] [Discriminator loss: -10.362629] [Generator loss: 0.287507]\n"
     ]
    },
    {
     "name": "stdout",
     "output_type": "stream",
     "text": [
      "[Epoch 1/1] [Batch 466/782] [Discriminator loss: -10.118366] [Generator loss: 1.826654]\n",
      "[Epoch 1/1] [Batch 471/782] [Discriminator loss: -11.257257] [Generator loss: 3.399004]\n",
      "[Epoch 1/1] [Batch 476/782] [Discriminator loss: -11.299860] [Generator loss: 4.601402]\n",
      "[Epoch 1/1] [Batch 481/782] [Discriminator loss: -11.597002] [Generator loss: 3.182247]\n",
      "[Epoch 1/1] [Batch 486/782] [Discriminator loss: -10.932440] [Generator loss: 3.654322]\n",
      "[Epoch 1/1] [Batch 491/782] [Discriminator loss: -10.841937] [Generator loss: 4.289631]\n",
      "[Epoch 1/1] [Batch 496/782] [Discriminator loss: -11.298741] [Generator loss: 3.487754]\n",
      "[Epoch 1/1] [Batch 501/782] [Discriminator loss: -9.949266] [Generator loss: 2.793375]\n",
      "[Epoch 1/1] [Batch 506/782] [Discriminator loss: -9.567106] [Generator loss: 1.837822]\n",
      "[Epoch 1/1] [Batch 511/782] [Discriminator loss: -10.612636] [Generator loss: 1.179102]\n",
      "[Epoch 1/1] [Batch 516/782] [Discriminator loss: -10.335830] [Generator loss: 1.224564]\n",
      "[Epoch 1/1] [Batch 521/782] [Discriminator loss: -9.055179] [Generator loss: -0.972338]\n",
      "[Epoch 1/1] [Batch 526/782] [Discriminator loss: -10.963267] [Generator loss: -0.092246]\n",
      "[Epoch 1/1] [Batch 531/782] [Discriminator loss: -10.982216] [Generator loss: 4.215611]\n",
      "[Epoch 1/1] [Batch 536/782] [Discriminator loss: -11.342505] [Generator loss: 4.976029]\n",
      "[Epoch 1/1] [Batch 541/782] [Discriminator loss: -11.974295] [Generator loss: 2.766748]\n",
      "[Epoch 1/1] [Batch 546/782] [Discriminator loss: -10.122548] [Generator loss: 2.073409]\n",
      "[Epoch 1/1] [Batch 551/782] [Discriminator loss: -9.932436] [Generator loss: -1.079448]\n",
      "[Epoch 1/1] [Batch 556/782] [Discriminator loss: -10.392462] [Generator loss: -0.629709]\n",
      "[Epoch 1/1] [Batch 561/782] [Discriminator loss: -10.950562] [Generator loss: -1.124479]\n",
      "[Epoch 1/1] [Batch 566/782] [Discriminator loss: -10.598833] [Generator loss: -2.496417]\n",
      "[Epoch 1/1] [Batch 571/782] [Discriminator loss: -8.712026] [Generator loss: -0.666616]\n",
      "[Epoch 1/1] [Batch 576/782] [Discriminator loss: -10.794570] [Generator loss: -1.872059]\n",
      "[Epoch 1/1] [Batch 581/782] [Discriminator loss: -11.149635] [Generator loss: -1.283203]\n",
      "[Epoch 1/1] [Batch 586/782] [Discriminator loss: -10.617492] [Generator loss: -0.022107]\n",
      "[Epoch 1/1] [Batch 591/782] [Discriminator loss: -10.685529] [Generator loss: 0.513401]\n",
      "[Epoch 1/1] [Batch 596/782] [Discriminator loss: -10.633823] [Generator loss: 2.397206]\n",
      "[Epoch 1/1] [Batch 601/782] [Discriminator loss: -11.123766] [Generator loss: 2.357424]\n",
      "[Epoch 1/1] [Batch 606/782] [Discriminator loss: -11.083447] [Generator loss: 2.083071]\n",
      "[Epoch 1/1] [Batch 611/782] [Discriminator loss: -10.641195] [Generator loss: 0.075016]\n",
      "[Epoch 1/1] [Batch 616/782] [Discriminator loss: -9.593725] [Generator loss: 1.433382]\n",
      "[Epoch 1/1] [Batch 621/782] [Discriminator loss: -9.964415] [Generator loss: 1.242849]\n",
      "[Epoch 1/1] [Batch 626/782] [Discriminator loss: -9.744163] [Generator loss: 0.664759]\n",
      "[Epoch 1/1] [Batch 631/782] [Discriminator loss: -9.789082] [Generator loss: 1.047052]\n",
      "[Epoch 1/1] [Batch 636/782] [Discriminator loss: -8.617249] [Generator loss: -0.525910]\n",
      "[Epoch 1/1] [Batch 641/782] [Discriminator loss: -10.640291] [Generator loss: 1.024977]\n",
      "[Epoch 1/1] [Batch 646/782] [Discriminator loss: -10.756664] [Generator loss: 2.798540]\n",
      "[Epoch 1/1] [Batch 651/782] [Discriminator loss: -10.332004] [Generator loss: 1.346389]\n",
      "[Epoch 1/1] [Batch 656/782] [Discriminator loss: -9.905821] [Generator loss: 0.028073]\n",
      "[Epoch 1/1] [Batch 661/782] [Discriminator loss: -9.765125] [Generator loss: -0.666328]\n",
      "[Epoch 1/1] [Batch 666/782] [Discriminator loss: -9.268002] [Generator loss: -0.780189]\n",
      "[Epoch 1/1] [Batch 671/782] [Discriminator loss: -9.483232] [Generator loss: 0.564270]\n",
      "[Epoch 1/1] [Batch 676/782] [Discriminator loss: -9.938763] [Generator loss: 1.476431]\n",
      "[Epoch 1/1] [Batch 681/782] [Discriminator loss: -10.517912] [Generator loss: 2.768654]\n",
      "[Epoch 1/1] [Batch 686/782] [Discriminator loss: -9.476246] [Generator loss: 2.447812]\n",
      "[Epoch 1/1] [Batch 691/782] [Discriminator loss: -9.742426] [Generator loss: 2.276316]\n",
      "[Epoch 1/1] [Batch 696/782] [Discriminator loss: -9.539416] [Generator loss: 3.357564]\n",
      "[Epoch 1/1] [Batch 701/782] [Discriminator loss: -10.365323] [Generator loss: 2.091121]\n",
      "[Epoch 1/1] [Batch 706/782] [Discriminator loss: -9.239730] [Generator loss: 1.874846]\n",
      "[Epoch 1/1] [Batch 711/782] [Discriminator loss: -8.428224] [Generator loss: 0.699933]\n",
      "[Epoch 1/1] [Batch 716/782] [Discriminator loss: -10.470013] [Generator loss: 1.265482]\n",
      "[Epoch 1/1] [Batch 721/782] [Discriminator loss: -8.598980] [Generator loss: -0.048780]\n",
      "[Epoch 1/1] [Batch 726/782] [Discriminator loss: -10.429947] [Generator loss: 1.378772]\n",
      "[Epoch 1/1] [Batch 731/782] [Discriminator loss: -9.416053] [Generator loss: 1.618805]\n",
      "[Epoch 1/1] [Batch 736/782] [Discriminator loss: -9.744141] [Generator loss: 0.609942]\n",
      "[Epoch 1/1] [Batch 741/782] [Discriminator loss: -9.260142] [Generator loss: -0.767716]\n",
      "[Epoch 1/1] [Batch 746/782] [Discriminator loss: -9.305176] [Generator loss: -1.518275]\n",
      "[Epoch 1/1] [Batch 751/782] [Discriminator loss: -9.322721] [Generator loss: -0.221720]\n",
      "[Epoch 1/1] [Batch 756/782] [Discriminator loss: -9.503346] [Generator loss: 1.518191]\n",
      "[Epoch 1/1] [Batch 761/782] [Discriminator loss: -9.207493] [Generator loss: 1.193429]\n",
      "[Epoch 1/1] [Batch 766/782] [Discriminator loss: -10.058439] [Generator loss: 1.465393]\n",
      "[Epoch 1/1] [Batch 771/782] [Discriminator loss: -10.309956] [Generator loss: 1.753211]\n",
      "[Epoch 1/1] [Batch 776/782] [Discriminator loss: -9.871460] [Generator loss: 1.872848]\n",
      "[Epoch 1/1] [Batch 781/782] [Discriminator loss: -9.716633] [Generator loss: 0.185611]\n"
     ]
    }
   ],
   "source": [
    "wgan_cifar10_results: Results = Results(\"wgan_cifar10\")\n",
    "\n",
    "params: Params = build_params(args, ModelType.WGAN_GP, DataType.CIFAR10)\n",
    "    \n",
    "train: TrainWGan = TrainWGan(params, wgan_cifar10_results.loss_updated_callback)\n",
    "train.run()"
   ]
  },
  {
   "cell_type": "code",
   "execution_count": 12,
   "metadata": {},
   "outputs": [
    {
     "data": {
      "image/png": "[encoded data removed]",
      "text/plain": [
       "<Figure size 432x288 with 1 Axes>"
      ]
     },
     "metadata": {
      "needs_background": "light"
     },
     "output_type": "display_data"
    }
   ],
   "source": [
    "wgan_cifar10_generator_losses: {} = wgan_cifar10_results.generator_losses\n",
    "wgan_cifar10_discriminator_losses: {} = wgan_cifar10_results.discriminator_losses\n",
    "\n",
    "plot(\"WGan_Cifar10\", \"Step\", \"Loss\", \n",
    "     \"Generator\", wgan_cifar10_generator_losses, \n",
    "     \"Discriminator\", wgan_cifar10_discriminator_losses)"
   ]
  },
  {
   "cell_type": "code",
   "execution_count": 13,
   "metadata": {},
   "outputs": [
    {
     "data": {
      "image/png": "[encoded data removed]",
      "text/plain": [
       "<IPython.core.display.Image object>"
      ]
     },
     "metadata": {},
     "output_type": "display_data"
    },
    {
     "data": {
      "image/png": "[encoded data removed]",
      "text/plain": [
       "<IPython.core.display.Image object>"
      ]
     },
     "metadata": {},
     "output_type": "display_data"
    }
   ],
   "source": [
    "wgan_cifar10_last_generator: torch.nn.Module = wgan_cifar10_results.last_generator\n",
    "generate_images(wgan_cifar10_last_generator, \"wgan_cifar10\")"
   ]
  },
  {
   "cell_type": "markdown",
   "metadata": {},
   "source": [
    "# Train DCGan"
   ]
  },
  {
   "cell_type": "code",
   "execution_count": 14,
   "metadata": {},
   "outputs": [],
   "source": [
    "args: {} = {}\n",
    "args[\"epochs\"] = 1 # number of epochs of training\n",
    "args[\"batch_size\"] = 64 # size of the batches\n",
    "args[\"lr\"] = 0.0002 # adam: learning rate\n",
    "args[\"b1\"] = 0.5 # adam: decay of first order momentum of gradient\n",
    "args[\"b2\"] = 0.999 # adam: decay of first order momentum of gradient\n",
    "args[\"latent_dim\"] = 100 # dimensionality of the latent space\n",
    "args[\"save_generated_image_every\"] = 50 # interval batches between saving image"
   ]
  },
  {
   "cell_type": "markdown",
   "metadata": {},
   "source": [
    "### DCGan with Fashion-Mnist"
   ]
  },
  {
   "cell_type": "code",
   "execution_count": null,
   "metadata": {},
   "outputs": [
    {
     "name": "stdout",
     "output_type": "stream",
     "text": [
      "[Epoch 1/1] [Batch 1/938] [Discriminator loss: 0.693408] [Generator loss: 0.712734]\n",
      "[Epoch 1/1] [Batch 2/938] [Discriminator loss: 0.693381] [Generator loss: 0.712097]\n",
      "[Epoch 1/1] [Batch 3/938] [Discriminator loss: 0.693343] [Generator loss: 0.711433]\n",
      "[Epoch 1/1] [Batch 4/938] [Discriminator loss: 0.693291] [Generator loss: 0.710662]\n",
      "[Epoch 1/1] [Batch 5/938] [Discriminator loss: 0.693251] [Generator loss: 0.709964]\n",
      "[Epoch 1/1] [Batch 6/938] [Discriminator loss: 0.693252] [Generator loss: 0.709386]\n",
      "[Epoch 1/1] [Batch 7/938] [Discriminator loss: 0.693114] [Generator loss: 0.708631]\n",
      "[Epoch 1/1] [Batch 8/938] [Discriminator loss: 0.693189] [Generator loss: 0.707991]\n",
      "[Epoch 1/1] [Batch 9/938] [Discriminator loss: 0.693158] [Generator loss: 0.707234]\n",
      "[Epoch 1/1] [Batch 10/938] [Discriminator loss: 0.693076] [Generator loss: 0.706608]\n",
      "[Epoch 1/1] [Batch 11/938] [Discriminator loss: 0.693027] [Generator loss: 0.705907]\n",
      "[Epoch 1/1] [Batch 12/938] [Discriminator loss: 0.692968] [Generator loss: 0.705375]\n",
      "[Epoch 1/1] [Batch 13/938] [Discriminator loss: 0.692748] [Generator loss: 0.704677]\n",
      "[Epoch 1/1] [Batch 14/938] [Discriminator loss: 0.692712] [Generator loss: 0.704188]\n",
      "[Epoch 1/1] [Batch 15/938] [Discriminator loss: 0.692392] [Generator loss: 0.703584]\n"
     ]
    }
   ],
   "source": [
    "dcgan_fashion_mnist_results: Results = Results(\"dcgan_fashion_mnist\")\n",
    "\n",
    "params: Params = build_params(args, ModelType.DCGAN, DataType.FASHION_MNIST)\n",
    "    \n",
    "train: TrainDCGan = TrainDCGan(params, dcgan_fashion_mnist_results.loss_updated_callback)\n",
    "train.run()"
   ]
  },
  {
   "cell_type": "code",
   "execution_count": null,
   "metadata": {},
   "outputs": [],
   "source": [
    "dcgan_fashion_mnist_generator_losses: {} = dcgan_fashion_mnist_results.generator_losses\n",
    "dcgan_fashion_mnist_discriminator_losses: {} = dcgan_fashion_mnist_results.discriminator_losses\n",
    "\n",
    "plot(\"DCGan_Fashion_Mnist\", \"Step\", \"Loss\", \n",
    "     \"Generator\", dcgan_fashion_mnist_generator_losses, \n",
    "     \"Discriminator\", dcgan_fashion_mnist_discriminator_losses)"
   ]
  },
  {
   "cell_type": "code",
   "execution_count": null,
   "metadata": {},
   "outputs": [],
   "source": [
    "dcgan_mnist_last_generator: torch.nn.Module = dcgan_mnist_results.last_generator\n",
    "generate_images(dcgan_mnist_last_generator, \"dcgan_fashion_mnist\")"
   ]
  },
  {
   "cell_type": "markdown",
   "metadata": {},
   "source": [
    "### DCGan with Mnist"
   ]
  },
  {
   "cell_type": "code",
   "execution_count": null,
   "metadata": {},
   "outputs": [],
   "source": [
    "dcgan_mnist_results: Results = Results(\"dcgan_mnist\")\n",
    "\n",
    "params: Params = build_params(args, ModelType.DCGAN, DataType.MNIST)\n",
    "    \n",
    "train: TrainDCGan = TrainDCGan(params, dcgan_mnist_results.loss_updated_callback)\n",
    "train.run()"
   ]
  },
  {
   "cell_type": "code",
   "execution_count": null,
   "metadata": {},
   "outputs": [],
   "source": [
    "dcgan_mnist_generator_losses: {} = dcgan_mnist_results.generator_losses\n",
    "dcgan_mnist_discriminator_losses: {} = dcgan_mnist_results.discriminator_losses\n",
    "\n",
    "plot(\"DCGan_Mnist\", \"Step\", \"Loss\", \n",
    "     \"Generator\", dcgan_mnist_generator_losses, \n",
    "     \"Discriminator\", dcgan_mnist_discriminator_losses)"
   ]
  },
  {
   "cell_type": "code",
   "execution_count": null,
   "metadata": {},
   "outputs": [],
   "source": [
    "dcgan_mnist_last_generator: torch.nn.Module = dcgan_mnist_results.last_generator\n",
    "generate_images(dcgan_mnist_last_generator, \"dcgan_mnist\")"
   ]
  },
  {
   "cell_type": "markdown",
   "metadata": {},
   "source": [
    "### DCGan with Cifar10"
   ]
  },
  {
   "cell_type": "code",
   "execution_count": null,
   "metadata": {},
   "outputs": [],
   "source": [
    "dcgan_cifar10_results: Results = Results(\"dcgan_cifar10\")\n",
    "\n",
    "params: Params = build_params(args, ModelType.DCGAN, DataType.CIFAR10)\n",
    "    \n",
    "train: TrainDCGan = TrainDCGan(params, dcgan_cifar10_results.loss_updated_callback)\n",
    "train.run()"
   ]
  },
  {
   "cell_type": "code",
   "execution_count": null,
   "metadata": {},
   "outputs": [],
   "source": [
    "dcgan_cifar10_generator_losses: {} = dcgan_cifar10_results.generator_losses\n",
    "dcgan_cifar10_discriminator_losses: {} = dcgan_cifar10_results.discriminator_losses\n",
    "\n",
    "plot(\"DCGan_Cifar10\", \"Step\", \"Loss\", \n",
    "     \"Generator\", dcgan_cifar10_generator_losses, \n",
    "     \"Discriminator\", dcgan_cifar10_discriminator_losses)"
   ]
  },
  {
   "cell_type": "code",
   "execution_count": null,
   "metadata": {},
   "outputs": [],
   "source": [
    "dcgan_cifar10_last_generator: torch.nn.Module = dcgan_cifar10_results.last_generator\n",
    "generate_images(dcgan_cifar10_last_generator, \"dcgan_cifar10\")"
   ]
  },
  {
   "cell_type": "code",
   "execution_count": null,
   "metadata": {},
   "outputs": [],
   "source": []
  }
 ],
 "metadata": {
  "kernelspec": {
   "display_name": "Python 3",
   "language": "python",
   "name": "python3"
  },
  "language_info": {
   "codemirror_mode": {
    "name": "ipython",
    "version": 3
   },
   "file_extension": ".py",
   "mimetype": "text/x-python",
   "name": "python",
   "nbconvert_exporter": "python",
   "pygments_lexer": "ipython3",
   "version": "3.8.5"
  }
 },
 "nbformat": 4,
 "nbformat_minor": 1
}