{
 "cells": [
  {
   "cell_type": "code",
   "execution_count": 11,
   "metadata": {},
   "outputs": [
    {
     "name": "stdout",
     "output_type": "stream",
     "text": [
      "namespace(b1=0.5, b2=0.999, batch_size=64, critic=5, epochs=200, gradient_penalty_lambda=10, latent_dim=100, lr=0.0002, save_generated_image_every=50)\n"
     ]
    },
    {
     "ename": "TypeError",
     "evalue": "argument of type 'types.SimpleNamespace' is not iterable",
     "output_type": "error",
     "traceback": [
      "\u001B[0;31m---------------------------------------------------------------------------\u001B[0m",
      "\u001B[0;31mTypeError\u001B[0m                                 Traceback (most recent call last)",
      "\u001B[0;32m<ipython-input-11-b6f0c20659fb>\u001B[0m in \u001B[0;36m<module>\u001B[0;34m\u001B[0m\n\u001B[1;32m     27\u001B[0m \u001B[0mprint\u001B[0m\u001B[0;34m(\u001B[0m\u001B[0margs\u001B[0m\u001B[0;34m)\u001B[0m\u001B[0;34m\u001B[0m\u001B[0;34m\u001B[0m\u001B[0m\n\u001B[1;32m     28\u001B[0m \u001B[0;34m\u001B[0m\u001B[0m\n\u001B[0;32m---> 29\u001B[0;31m \u001B[0mparams\u001B[0m\u001B[0;34m:\u001B[0m \u001B[0mParams\u001B[0m \u001B[0;34m=\u001B[0m \u001B[0mbuild_params\u001B[0m\u001B[0;34m(\u001B[0m\u001B[0margs\u001B[0m\u001B[0;34m,\u001B[0m \u001B[0mModelType\u001B[0m\u001B[0;34m.\u001B[0m\u001B[0mWGAN_GP\u001B[0m\u001B[0;34m,\u001B[0m \u001B[0mDataType\u001B[0m\u001B[0;34m.\u001B[0m\u001B[0mFASHION_MNIST\u001B[0m\u001B[0;34m)\u001B[0m\u001B[0;34m\u001B[0m\u001B[0;34m\u001B[0m\u001B[0m\n\u001B[0m\u001B[1;32m     30\u001B[0m \u001B[0;34m\u001B[0m\u001B[0m\n\u001B[1;32m     31\u001B[0m \u001B[0mtrain\u001B[0m\u001B[0;34m:\u001B[0m \u001B[0mTrainWGan\u001B[0m \u001B[0;34m=\u001B[0m \u001B[0mTrainWGan\u001B[0m\u001B[0;34m(\u001B[0m\u001B[0mparams\u001B[0m\u001B[0;34m)\u001B[0m\u001B[0;34m\u001B[0m\u001B[0;34m\u001B[0m\u001B[0m\n",
      "\u001B[0;32m~/Workspace/Python/wgan-gp/train/builder.py\u001B[0m in \u001B[0;36mbuild_params\u001B[0;34m(args, model_type, data_type)\u001B[0m\n\u001B[1;32m     69\u001B[0m     \u001B[0mparams\u001B[0m\u001B[0;34m.\u001B[0m\u001B[0mgenerator_optimizer\u001B[0m \u001B[0;34m=\u001B[0m \u001B[0mgenerator_optimizer\u001B[0m\u001B[0;34m\u001B[0m\u001B[0;34m\u001B[0m\u001B[0m\n\u001B[1;32m     70\u001B[0m     \u001B[0mparams\u001B[0m\u001B[0;34m.\u001B[0m\u001B[0mdiscriminator_optimizer\u001B[0m \u001B[0;34m=\u001B[0m \u001B[0mdiscriminator_optimizer\u001B[0m\u001B[0;34m\u001B[0m\u001B[0;34m\u001B[0m\u001B[0m\n\u001B[0;32m---> 71\u001B[0;31m     \u001B[0;32mif\u001B[0m \u001B[0;34m\"gradient_penalty_lambda\"\u001B[0m \u001B[0;32min\u001B[0m \u001B[0margs\u001B[0m\u001B[0;34m:\u001B[0m\u001B[0;34m\u001B[0m\u001B[0;34m\u001B[0m\u001B[0m\n\u001B[0m\u001B[1;32m     72\u001B[0m         \u001B[0mparams\u001B[0m\u001B[0;34m.\u001B[0m\u001B[0mgradient_penalty_lambda\u001B[0m \u001B[0;34m=\u001B[0m \u001B[0margs\u001B[0m\u001B[0;34m[\u001B[0m\u001B[0;34m\"gradient_penalty_lambda\"\u001B[0m\u001B[0;34m]\u001B[0m\u001B[0;34m\u001B[0m\u001B[0;34m\u001B[0m\u001B[0m\n\u001B[1;32m     73\u001B[0m     \u001B[0mparams\u001B[0m\u001B[0;34m.\u001B[0m\u001B[0mloss_function\u001B[0m \u001B[0;34m=\u001B[0m \u001B[0mloss_function\u001B[0m\u001B[0;34m\u001B[0m\u001B[0;34m\u001B[0m\u001B[0m\n",
      "\u001B[0;31mTypeError\u001B[0m: argument of type 'types.SimpleNamespace' is not iterable"
     ]
    }
   ],
   "source": [
    "import argparse\n",
    "\n",
    "from models.type import Type as ModelType\n",
    "from data.type import Type as DataType\n",
    "from train.params import Params\n",
    "from train.builder import build_params\n",
    "\n",
    "import ssl\n",
    "\n",
    "from train.train_wgan import TrainWGan\n",
    "\n",
    "ssl._create_default_https_context = ssl._create_unverified_context\n",
    "\n",
    "args: {} = {}\n",
    "args[\"epochs\"] = 200 # number of epochs of training\n",
    "args[\"batch_size\"] = 64 # size of the batches\n",
    "args[\"lr\"] = 0.0002 # adam: learning rate\n",
    "args[\"b1\"] = 0.5 # adam: decay of first order momentum of gradient\n",
    "args[\"b2\"] = 0.999 # adam: decay of first order momentum of gradient\n",
    "args[\"latent_dim\"] = 100 # dimensionality of the latent space\n",
    "args[\"critic\"] = 5 # number of training steps for discriminator per iter\n",
    "args[\"gradient_penalty_lambda\"] = 10 # loss weight for gradient penalty\n",
    "args[\"save_generated_image_every\"] = 50 # interval batches between saving image\n",
    "\n",
    "# parser = argparse.ArgumentParser()\n",
    "# parser.add_argument(\"--epochs\", type=int, default=200, help=\"number of epochs of training\")\n",
    "# parser.add_argument(\"--batch_size\", type=int, default=64, help=\"size of the batches\")\n",
    "# parser.add_argument(\"--lr\", type=float, default=0.0002, help=\"adam: learning rate\")\n",
    "# parser.add_argument(\"--b1\", type=float, default=0.5, help=\"adam: decay of first order momentum of gradient\")\n",
    "# parser.add_argument(\"--b2\", type=float, default=0.999, help=\"adam: decay of first order momentum of gradient\")\n",
    "# parser.add_argument(\"--latent_dim\", type=int, default=100, help=\"dimensionality of the latent space\")\n",
    "# parser.add_argument(\"--critic\", type=int, default=5, help=\"number of training steps for discriminator per iter\")\n",
    "# parser.add_argument(\"--gradient_penalty_lambda\", type=int, default=10, help=\"loss weight for gradient penalty\")\n",
    "# parser.add_argument(\"--save_generated_image_every\", type=int, default=50, help=\"interval batches between saving image\")\n",
    "# args = parser.parse_args()\n",
    "print(args)\n",
    "\n",
    "params: Params = build_params(args, ModelType.WGAN_GP, DataType.FASHION_MNIST)\n",
    "\n",
    "train: TrainWGan = TrainWGan(params)\n",
    "train.run()\n",
    "\n"
   ]
  },
  {
   "cell_type": "code",
   "execution_count": null,
   "metadata": {},
   "outputs": [],
   "source": []
  }
 ],
 "metadata": {
  "kernelspec": {
   "display_name": "Python 3",
   "language": "python",
   "name": "python3"
  },
  "language_info": {
   "codemirror_mode": {
    "name": "ipython",
    "version": 3
   },
   "file_extension": ".py",
   "mimetype": "text/x-python",
   "name": "python",
   "nbconvert_exporter": "python",
   "pygments_lexer": "ipython3",
   "version": "3.8.5"
  }
 },
 "nbformat": 4,
 "nbformat_minor": 1
}